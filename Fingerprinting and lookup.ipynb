# Audio Fingerprinting using Essentia
import essentia
import re
import sys
import os
import numpy
import essentia.streaming as ess
import essentia.standard as es
from essentia.standard import *
from pylab import plot, show, figure, imshow
%matplotlib inline
import matplotlib.pyplot as plt
import IPython
# Importing an audio file in monoloader
audio = es.MonoLoader(filename='Brad.mp3', sampleRate=44100)()
IPython.display.Audio('Brad.mp3')
# Visualising an audio file by sampling
import matplotlib.pyplot as plt
from matplotlib.pyplot import plot, show, figure, imshow
%matplotlib inline
plt.rcParams['figure.figsize'] = (15, 6) 
plot(audio[1*44100:2*44100])
plt.title("This is how the 1-2 seconds of this audio looks like:")
show()
# Creating spectograms using MFCC
from essentia.standard import *
w = Windowing(type = 'hann')
spectrum = Spectrum()
mfcc = MFCC()

frame = audio[10*44100 : 10*44100 + 1024]
spec = spectrum(w(frame))
mfcc_bands, mfcc_coeffs = mfcc(spec)
mfccs = []
melbands = []
melbands_log = []
logNorm = UnaryOperator(type='log')

for frame in FrameGenerator(audio, frameSize=1024, hopSize=512, startFromZero=True):
    mfcc_bands, mfcc_coeffs = mfcc(spectrum(w(frame)))
    mfccs.append(mfcc_coeffs)
    melbands.append(mfcc_bands)
    melbands_log.append(logNorm(mfcc_bands))

# transpose to have it in a better shape
# we need to convert the list to an essentia.array first (== numpy.array of floats)
mfccs = essentia.array(mfccs).T
melbands = essentia.array(melbands).T
melbands_log = essentia.array(melbands_log).T

# and plot
imshow(melbands[:,:], aspect = 'auto', origin='lower', interpolation='none')
plt.title("Mel band spectral energies in frames")
show()

imshow(melbands_log[:,:], aspect = 'auto', origin='lower', interpolation='none')
plt.title("Log-normalized mel band spectral energies in frames")
show()

imshow(mfccs[1:,:], aspect='auto', origin='lower', interpolation='none')
plt.title("MFCCs in frames")
show()
# Creating fingerprint
fingerprint = es.Chromaprinter()(audio)
print (fingerprint)
# Looking up fingerprint
duration = len(audio) / 44100.
print (duration)
import IPython
#print(IPython.sys_info())
#import acoustid

client = 'B1gyio8E2J' # This is my key.#
query = 'http://api.acoustid.org/v2/lookup?client=%s&meta=recordings+releasegroups+compress&duration=%i&fingerprint=%s' \
%(client, duration, fingerprint)

from six.moves import urllib
page = urllib.request.urlopen(query)
print(page.read())
